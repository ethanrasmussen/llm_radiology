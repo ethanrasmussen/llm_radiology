{
  "cells": [
    {
      "cell_type": "markdown",
      "metadata": {
        "id": "ypuumGtPvWY2"
      },
      "source": [
        "Initial Setup"
      ]
    },
    {
      "cell_type": "code",
      "execution_count": null,
      "metadata": {
        "colab": {
          "base_uri": "https://localhost:8080/"
        },
        "id": "-Ml09xFGr8yC",
        "outputId": "825a9624-bd2d-4df6-fc21-b2630307fac5"
      },
      "outputs": [
        {
          "name": "stdout",
          "output_type": "stream",
          "text": [
            "Mounted at /content/drive\n",
            "Cloning into 'llm_radiology'...\n",
            "remote: Enumerating objects: 591, done.\u001b[K\n",
            "remote: Counting objects: 100% (35/35), done.\u001b[K\n",
            "remote: Compressing objects: 100% (28/28), done.\u001b[K\n",
            "remote: Total 591 (delta 19), reused 19 (delta 7), pack-reused 556 (from 1)\u001b[K\n",
            "Receiving objects: 100% (591/591), 760.74 KiB | 24.54 MiB/s, done.\n",
            "Resolving deltas: 100% (216/216), done.\n",
            "/content/llm_radiology\n",
            "\u001b[0m\u001b[01;34mCXRMetric\u001b[0m/             \u001b[01;32mfinetune.sh\u001b[0m*                  report_cleaning.py\n",
            "\u001b[01;34mdl4h\u001b[0m/                  format_llama_input.py         requirements.txt\n",
            "eval_requirements.txt  \u001b[01;34mimage_model\u001b[0m/                  utils_finetune.py\n",
            "evaluate.py            pragmatic_llama_inference.py  utils.py\n",
            "finetune.py            \u001b[01;34mprompts\u001b[0m/\n",
            "finetune_qLoRA.py      README.md\n"
          ]
        }
      ],
      "source": [
        "# Mount Google Drive\n",
        "from google.colab import drive\n",
        "drive.mount('/content/drive')\n",
        "\n",
        "# Clone git repo\n",
        "!git clone https://github.com/ethanrasmussen/llm_radiology.git\n",
        "\n",
        "# Enter correct directory\n",
        "%cd llm_radiology/\n",
        "%ls"
      ]
    },
    {
      "cell_type": "code",
      "execution_count": null,
      "metadata": {
        "colab": {
          "base_uri": "https://localhost:8080/"
        },
        "id": "Vv1w9CZptDNF",
        "outputId": "dbfd407c-ff38-4fdc-9eef-f154166e6e70"
      },
      "outputs": [
        {
          "name": "stdout",
          "output_type": "stream",
          "text": [
            "\u001b[2K     \u001b[90m━━━━━━━━━━━━━━━━━━━━━━━━━━━━━━━━━━━━━━━━\u001b[0m \u001b[32m57.6/57.6 kB\u001b[0m \u001b[31m5.4 MB/s\u001b[0m eta \u001b[36m0:00:00\u001b[0m\n",
            "\u001b[2K     \u001b[90m━━━━━━━━━━━━━━━━━━━━━━━━━━━━━━━━━━━━━━━━\u001b[0m \u001b[32m48.4/48.4 kB\u001b[0m \u001b[31m3.9 MB/s\u001b[0m eta \u001b[36m0:00:00\u001b[0m\n",
            "\u001b[2K     \u001b[90m━━━━━━━━━━━━━━━━━━━━━━━━━━━━━━━━━━━━━━━━\u001b[0m \u001b[32m59.1/59.1 kB\u001b[0m \u001b[31m5.2 MB/s\u001b[0m eta \u001b[36m0:00:00\u001b[0m\n",
            "\u001b[?25h\u001b[31mERROR: Ignored the following versions that require a different python version: 1.21.2 Requires-Python >=3.7,<3.11; 1.21.3 Requires-Python >=3.7,<3.11; 1.21.4 Requires-Python >=3.7,<3.11; 1.21.5 Requires-Python >=3.7,<3.11; 1.21.6 Requires-Python >=3.7,<3.11; 1.6.2 Requires-Python >=3.7,<3.10; 1.6.3 Requires-Python >=3.7,<3.10; 1.7.0 Requires-Python >=3.7,<3.10; 1.7.1 Requires-Python >=3.7,<3.10; 1.7.2 Requires-Python >=3.7,<3.11; 1.7.3 Requires-Python >=3.7,<3.11; 1.8.0 Requires-Python >=3.8,<3.11; 1.8.0rc1 Requires-Python >=3.8,<3.11; 1.8.0rc2 Requires-Python >=3.8,<3.11; 1.8.0rc3 Requires-Python >=3.8,<3.11; 1.8.0rc4 Requires-Python >=3.8,<3.11; 1.8.1 Requires-Python >=3.8,<3.11\u001b[0m\u001b[31m\n",
            "\u001b[0m\u001b[31mERROR: Could not find a version that satisfies the requirement tifffile==2024.3.1 (from versions: 0.1.0, 0.2.0, 0.3.0, 0.3.1, 0.3.2, 0.3.3, 0.4, 0.5, 0.6.0, 0.6.1, 0.6.2, 0.7.0, 0.8.0, 0.9.0, 0.9.1, 0.9.2, 0.10.0, 0.11.0, 0.11.1, 0.12.0, 0.12.1, 0.13.0, 0.13.1, 0.13.2, 0.13.4, 0.13.5, 0.14.0, 0.15.0, 0.15.1, 2018.10.18, 2018.11.6, 2018.11.28, 2019.1.1, 2019.1.4, 2019.1.30, 2019.2.10, 2019.2.22, 2019.3.8, 2019.3.18, 2019.5.22, 2019.5.30, 2019.6.18, 2019.7.2, 2019.7.20, 2019.7.26, 2019.7.26.2, 2020.2.16, 2020.5.5, 2020.5.7, 2020.5.11, 2020.5.25, 2020.5.30, 2020.6.3, 2020.7.4, 2020.7.17, 2020.7.22, 2020.7.24, 2020.8.13, 2020.8.25, 2020.9.3, 2020.9.22, 2020.9.28, 2020.9.29, 2020.9.30, 2020.10.1, 2020.11.18, 2020.11.26, 2020.12.4, 2020.12.8, 2021.1.8, 2021.1.11, 2021.1.14, 2021.2.1, 2021.2.26, 2021.3.4, 2021.3.5, 2021.3.16, 2021.3.17, 2021.3.31, 2021.4.8, 2021.6.6, 2021.6.14, 2021.7.2, 2021.7.30, 2021.8.8, 2021.8.30, 2021.10.10, 2021.10.12, 2021.11.2, 2022.2.2, 2022.2.9, 2022.3.16, 2022.3.25, 2022.4.8, 2022.4.22, 2022.4.26, 2022.4.28, 2022.5.4, 2022.7.28, 2022.7.31, 2022.8.3, 2022.8.8, 2022.8.12, 2022.10.10, 2023.1.23, 2023.1.23.1, 2023.2.2, 2023.2.3, 2023.2.27, 2023.2.28, 2023.3.15, 2023.3.21, 2023.4.12, 2023.7.4, 2023.7.10, 2023.7.18, 2023.8.12, 2023.8.25, 2023.8.30, 2023.9.18, 2023.9.26, 2023.12.9, 2024.1.30, 2024.2.12, 2024.4.18, 2024.4.24, 2024.5.3, 2024.5.10, 2024.5.22, 2024.6.18, 2024.7.2, 2024.7.21, 2024.7.24, 2024.8.10, 2024.8.24, 2024.8.28, 2024.8.30, 2024.9.20, 2024.12.12, 2025.1.10, 2025.2.18, 2025.3.13, 2025.3.30)\u001b[0m\u001b[31m\n",
            "\u001b[0m\u001b[31mERROR: No matching distribution found for tifffile==2024.3.1\u001b[0m\u001b[31m\n",
            "\u001b[0m"
          ]
        }
      ],
      "source": [
        "# Install project requirements\n",
        "!pip install -q -r requirements.txt"
      ]
    },
    {
      "cell_type": "markdown",
      "metadata": {
        "id": "W7Fxdv3hvZWr"
      },
      "source": [
        "Report Cleaning & Data Formatting for Llama Finetune"
      ]
    },
    {
      "cell_type": "code",
      "execution_count": null,
      "metadata": {
        "id": "JmryTuhjwGXL"
      },
      "outputs": [],
      "source": [
        "!mkdir /content/drive/MyDrive/LLM_CXR/cleaned_reports/"
      ]
    },
    {
      "cell_type": "code",
      "execution_count": null,
      "metadata": {
        "colab": {
          "base_uri": "https://localhost:8080/"
        },
        "collapsed": true,
        "id": "P_WrWspGyOjv",
        "outputId": "04511a63-9a3f-45ff-c548-ed4b97f8c7f9"
      },
      "outputs": [],
      "source": [
        "!pip install -q datasets deepspeed"
      ]
    },
    {
      "cell_type": "code",
      "execution_count": null,
      "metadata": {
        "colab": {
          "base_uri": "https://localhost:8080/"
        },
        "collapsed": true,
        "id": "2GRoz7vbvklt",
        "outputId": "68590beb-1680-4189-98c1-16187ea9a199"
      },
      "outputs": [],
      "source": [
        "!deepspeed --num_gpus=1 report_cleaning.py --chexbert_path /content/drive/MyDrive/LLM_CXR/chexbert.pth --per_device_eval_batch_size 1 \\\n",
        "  --dataset_path /content/drive/MyDrive/LLM_CXR/PARSED_DATASET/COMPILED_GROUND_TRUTH_REPORTS.csv --output_dir /content/drive/MyDrive/LLM_CXR/cleaned_reports/"
      ]
    },
    {
      "cell_type": "code",
      "execution_count": null,
      "metadata": {
        "colab": {
          "base_uri": "https://localhost:8080/"
        },
        "collapsed": true,
        "id": "wQV5SMAfd_Ar",
        "outputId": "29d7fb51-6c6e-4d32-c6c4-59110a36f8f6"
      },
      "outputs": [],
      "source": [
        "!python format_llama_input.py --indication_path /content/drive/MyDrive/LLM_CXR/cleaned_reports/manually_prepared/FINETUNE_INDICATIONS.csv --impression_path /content/drive/MyDrive/LLM_CXR/cleaned_reports/manually_prepared/FINETUNE_IMPRESSIONS.csv --outpath /content/drive/MyDrive/LLM_CXR/cleaned_reports/llama_finetune_input.json"
      ]
    },
    {
      "cell_type": "markdown",
      "metadata": {
        "id": "gwTOzZp7vkvL"
      },
      "source": [
        "Finetune Llama-3"
      ]
    },
    {
      "cell_type": "code",
      "execution_count": null,
      "metadata": {
        "colab": {
          "base_uri": "https://localhost:8080/"
        },
        "collapsed": true,
        "id": "aFEaOxxMuXzp",
        "outputId": "5f7eecb7-2a85-4536-f7d8-170c9b6d0182"
      },
      "outputs": [
        {
          "name": "stdout",
          "output_type": "stream",
          "text": [
            "\u001b[?25l     \u001b[90m━━━━━━━━━━━━━━━━━━━━━━━━━━━━━━━━━━━━━━━━\u001b[0m \u001b[32m0.0/54.7 kB\u001b[0m \u001b[31m?\u001b[0m eta \u001b[36m-:--:--\u001b[0m\r\u001b[2K     \u001b[90m━━━━━━━━━━━━━━━━━━━━━━━━━━━━━━━━━━━━━━━━\u001b[0m \u001b[32m54.7/54.7 kB\u001b[0m \u001b[31m5.7 MB/s\u001b[0m eta \u001b[36m0:00:00\u001b[0m\n",
            "\u001b[?25h  Installing build dependencies ... \u001b[?25l\u001b[?25hdone\n",
            "  Getting requirements to build wheel ... \u001b[?25l\u001b[?25hdone\n",
            "  Preparing metadata (pyproject.toml) ... \u001b[?25l\u001b[?25hdone\n",
            "  Building wheel for openai (pyproject.toml) ... \u001b[?25l\u001b[?25hdone\n"
          ]
        }
      ],
      "source": [
        "!pip install -q openai==0.26.0"
      ]
    },
    {
      "cell_type": "code",
      "execution_count": null,
      "metadata": {
        "colab": {
          "base_uri": "https://localhost:8080/"
        },
        "id": "x4MwxZJ6tXBm",
        "outputId": "484da922-54d4-45b8-fdca-3a5e485bf999"
      },
      "outputs": [],
      "source": [
        "!pip install --quiet huggingface_hub\n",
        "!huggingface-cli login"
      ]
    },
    {
      "cell_type": "code",
      "execution_count": null,
      "metadata": {
        "colab": {
          "base_uri": "https://localhost:8080/"
        },
        "id": "9SjZo2zyBPyL",
        "outputId": "8d5c2d36-fa22-4bab-a818-c8d15939e9c3"
      },
      "outputs": [
        {
          "name": "stdout",
          "output_type": "stream",
          "text": [
            "\u001b[2K   \u001b[90m━━━━━━━━━━━━━━━━━━━━━━━━━━━━━━━━━━━━━━━━\u001b[0m \u001b[32m76.1/76.1 MB\u001b[0m \u001b[31m26.5 MB/s\u001b[0m eta \u001b[36m0:00:00\u001b[0m\n",
            "\u001b[?25h"
          ]
        }
      ],
      "source": [
        "!pip install -q bitsandbytes accelerate peft"
      ]
    },
    {
      "cell_type": "code",
      "execution_count": null,
      "metadata": {
        "colab": {
          "base_uri": "https://localhost:8080/"
        },
        "collapsed": true,
        "id": "89jq7FpuBjha",
        "outputId": "ab3cb230-1a34-46f6-e4c7-5f8e1d4255ed"
      },
      "outputs": [],
      "source": [
        "%%bash\n",
        "\n",
        "export MODEL_NAME=meta-llama/Meta-Llama-3.1-8B-Instruct\n",
        "export DATA_PATH=/content/drive/MyDrive/LLM_CXR/cleaned_reports/llama_finetune_input.json\n",
        "export OUTPUT_DIR=/content/drive/MyDrive/LLM_CXR/LLM_MODEL_FILES/finetuned-pragmatic-llama3\n",
        "\n",
        "accelerate launch finetune_qLoRA.py \\\n",
        "  --model_name_or_path $MODEL_NAME \\\n",
        "  --data_path        $DATA_PATH \\\n",
        "  --output_dir       $OUTPUT_DIR \\\n",
        "  --per_device_train_batch_size 1 \\\n",
        "  --gradient_accumulation_steps 4 \\\n",
        "  --num_train_epochs 5 \\\n",
        "  --learning_rate 1e-4 \\\n",
        "  --report_to none"
      ]
    },
    {
      "cell_type": "markdown",
      "metadata": {
        "id": "3pRxzUqUUae7"
      },
      "source": [
        "Fine-tune with Synthetic Data"
      ]
    },
    {
      "cell_type": "code",
      "execution_count": null,
      "metadata": {
        "id": "QogxWxgsU5pf"
      },
      "outputs": [],
      "source": [
        "FINETUNE_IMPRESSIONS = \"/content/drive/MyDrive/LLM_CXR/cleaned_reports/manually_prepared/FINETUNE_IMPRESSIONS.csv\"\n",
        "FINETUNE_INDICATIONS = \"/content/drive/MyDrive/LLM_CXR/cleaned_reports/manually_prepared/FINETUNE_INDICATIONS.csv\"\n",
        "\n",
        "MODEL_ID = \"meta-llama/Meta-Llama-3.1-8B-Instruct\"\n",
        "SYNTH_IMPRESSIONS = \"/content/drive/MyDrive/LLM_CXR/synthetic_data/SYNTH_IMPRESSIONS.csv\"\n",
        "SYNTH_INDICATIONS = \"/content/drive/MyDrive/LLM_CXR/synthetic_data/SYNTH_INDICATIONS.csv\"\n",
        "SYNTH_DATASET = \"/content/drive/MyDrive/LLM_CXR/synthetic_data/SYNTH_DATASET.csv\""
      ]
    },
    {
      "cell_type": "code",
      "execution_count": null,
      "metadata": {
        "id": "hxHrh_pWU7pi"
      },
      "outputs": [],
      "source": [
        "import pandas as pd\n",
        "imp = pd.read_csv(FINETUNE_IMPRESSIONS)\n",
        "# Compute P(flag==1) and pairwise corr\n",
        "freqs = imp.drop(columns=[\"study_id\",\"report\"]).mean()\n",
        "corrs = imp.drop(columns=[\"study_id\",\"report\"]).corr()"
      ]
    },
    {
      "cell_type": "code",
      "execution_count": null,
      "metadata": {
        "id": "Ybehj7pQU-8a"
      },
      "outputs": [],
      "source": [
        "import numpy as np\n",
        "\n",
        "n_synth = 1000\n",
        "p = freqs.values\n",
        "synth_labels = (np.random.rand(n_synth, len(p)) < p).astype(int)"
      ]
    },
    {
      "cell_type": "code",
      "execution_count": null,
      "metadata": {
        "colab": {
          "base_uri": "https://localhost:8080/"
        },
        "id": "cA_esyElUfeJ",
        "outputId": "85e84c5f-e7ad-454b-f54a-481b6d52aaba"
      },
      "outputs": [],
      "source": [
        "!pip install -q transformers accelerate\n",
        "!huggingface-cli login"
      ]
    },
    {
      "cell_type": "code",
      "execution_count": null,
      "metadata": {
        "colab": {
          "base_uri": "https://localhost:8080/",
          "height": 66,
          "referenced_widgets": [
            "99cca60e6b884b2f9339fa880aba66f0",
            "f8c1ab7d83b5463f9b60cefbdb91cb45",
            "ebcceb3adf3e40f39b0eb6d297d8fc9b",
            "a0781aacfdd74047a61f2fe06d201210",
            "9064862c4d6846b1b1901d278bf602bf",
            "c77206665e164921b8371036089bea85",
            "bebc91f7b8c04a6aad9eaac5cf969d2d",
            "e3b19b49f4a94b2b8e23ba11e25b84d2",
            "de47333253ed4f2298d4e853e4a385fd",
            "3ad9d953913c421483030a4643d67b29",
            "a1ea663b494e4accb5c43c82afabe7f1"
          ]
        },
        "id": "VDkfApF9UqfL",
        "outputId": "be3b5f7d-5595-4b47-db51-36a37b32d935"
      },
      "outputs": [],
      "source": [
        "from transformers import pipeline, AutoTokenizer, AutoModelForCausalLM\n",
        "\n",
        "tokenizer = AutoTokenizer.from_pretrained(MODEL_ID, use_fast=False)\n",
        "model     = AutoModelForCausalLM.from_pretrained(\n",
        "    MODEL_ID,\n",
        "    device_map=\"auto\",\n",
        "    torch_dtype=\"auto\",\n",
        ")\n",
        "\n",
        "generator = pipeline(\n",
        "    \"text-generation\",\n",
        "    model=model,\n",
        "    tokenizer=tokenizer,\n",
        "    trust_remote_code=True,\n",
        ")"
      ]
    },
    {
      "cell_type": "code",
      "execution_count": null,
      "metadata": {
        "colab": {
          "base_uri": "https://localhost:8080/"
        },
        "collapsed": true,
        "id": "mT9EmUlDVHSL",
        "outputId": "c15e74ff-bb7f-4701-cb9b-6c77660468dd"
      },
      "outputs": [],
      "source": [
        "import numpy as np, pandas as pd, uuid\n",
        "\n",
        "real_impressions = imp.copy()\n",
        "\n",
        "# sample N fake label vectors (shape: [N, num_conditions])\n",
        "p = real_impressions.drop(columns=[\"study_id\",\"report\"]).mean().values\n",
        "N = 1000\n",
        "synth_labels = (np.random.rand(N, len(p)) < p).astype(int)\n",
        "cond_names   = real_impressions.columns.drop([\"study_id\",\"report\"])\n",
        "\n",
        "rows = []\n",
        "for vec in synth_labels:\n",
        "    label_dict = dict(zip(cond_names, vec))\n",
        "    # synthetic generation prompt:\n",
        "    findings = \", \".join(k for k,v in label_dict.items() if v) or \"no acute findings\"\n",
        "    prompt = (\n",
        "        f\"You are a radiologist. Findings present: {findings}.\\n\"\n",
        "        f\"Write a concise Impression (1–2 sentences), mentioning positives and stating normal for others.\\n\\n\"\n",
        "        f\"### Impression:\\n\"\n",
        "    )\n",
        "    out = generator(\n",
        "        prompt,\n",
        "        max_new_tokens=64,\n",
        "        do_sample=True,\n",
        "        temperature=0.7,\n",
        "        top_p=0.9,\n",
        "    )[0][\"generated_text\"]\n",
        "    # strip off the prompt and any trailing garbage\n",
        "    imp = out.split(\"### Impression:\")[-1].strip()\n",
        "    rows.append({\"study_id\": str(uuid.uuid4()), \"report\": imp, **label_dict})\n",
        "\n",
        "synth_imp = pd.DataFrame(rows)\n",
        "synth_imp.to_csv(SYNTH_IMPRESSIONS, index=False)"
      ]
    },
    {
      "cell_type": "code",
      "execution_count": null,
      "metadata": {
        "colab": {
          "base_uri": "https://localhost:8080/",
          "height": 458,
          "referenced_widgets": [
            "86720b43c59742e6a0cebb2003edcc56",
            "72e294256c4f404d947f9f2637cb2f08",
            "5ff2c15c199947159d8e722cd5f74516",
            "2ba3d5ca986d4fd195b300de2c6f6be6",
            "76e02a08f5a44f409ce448b4299964bf",
            "8488838ced674dda958a8935b8b020d8",
            "b6cd0b7345224f5b9c02de87402f6c65",
            "ba4aa123419d4c759efbeda0711ace36",
            "81ddeb6141c5496cadcac7947376778e",
            "87a434c1e86c4a888c07035dc8af1f63",
            "98f77fc224fc4298ad9e7fc8ff7c1ce4"
          ]
        },
        "id": "W3Qn-lffVaUk",
        "outputId": "53e8935c-1398-4eb0-b44b-fa3bfe5df6c3"
      },
      "outputs": [],
      "source": [
        "# LLM-paraphrase a seed set:\n",
        "paraphrase = pipeline(\"text2text-generation\", model=MODEL_ID, device=0)\n",
        "real_inds = pd.read_csv(FINETUNE_INDICATIONS)\n",
        "ind_rows = []\n",
        "for sid, hist in zip(synth_imp.study_id, real_inds.history.sample(len(synth_imp), replace=True)):\n",
        "    p = paraphrase(f\"Rewrite this exam history in a different way:\\n\\n{hist}\",\n",
        "                   max_new_tokens=64, temperature=0.8)[0][\"generated_text\"]\n",
        "    ind_rows.append({\"study_id\": sid, \"history\": p})\n",
        "\n",
        "synth_ind = pd.DataFrame(ind_rows)\n",
        "synth_ind.to_csv(SYNTH_INDICATIONS, index=False)"
      ]
    },
    {
      "cell_type": "code",
      "execution_count": null,
      "metadata": {
        "id": "Hj16F4IoVgn7"
      },
      "outputs": [],
      "source": [
        "combined = synth_ind.merge(synth_imp, on=\"study_id\")\n",
        "# drop any empty or obviously malformed rows\n",
        "combined = combined[combined.report.str.len().between(20,500)]\n",
        "combined.to_csv(SYNTH_DATASET, index=False)"
      ]
    }
  ],
  "metadata": {
    "accelerator": "GPU",
    "colab": {
      "gpuType": "A100",
      "provenance": []
    },
    "kernelspec": {
      "display_name": "Python 3",
      "name": "python3"
    },
    "language_info": {
      "name": "python"
    },
    "widgets": {
      "application/vnd.jupyter.widget-state+json": {
        "2ba3d5ca986d4fd195b300de2c6f6be6": {
          "model_module": "@jupyter-widgets/controls",
          "model_module_version": "1.5.0",
          "model_name": "HTMLModel",
          "state": {
            "_dom_classes": [],
            "_model_module": "@jupyter-widgets/controls",
            "_model_module_version": "1.5.0",
            "_model_name": "HTMLModel",
            "_view_count": null,
            "_view_module": "@jupyter-widgets/controls",
            "_view_module_version": "1.5.0",
            "_view_name": "HTMLView",
            "description": "",
            "description_tooltip": null,
            "layout": "IPY_MODEL_87a434c1e86c4a888c07035dc8af1f63",
            "placeholder": "​",
            "style": "IPY_MODEL_98f77fc224fc4298ad9e7fc8ff7c1ce4",
            "value": " 4/4 [00:04&lt;00:00,  1.01s/it]"
          }
        },
        "3ad9d953913c421483030a4643d67b29": {
          "model_module": "@jupyter-widgets/base",
          "model_module_version": "1.2.0",
          "model_name": "LayoutModel",
          "state": {
            "_model_module": "@jupyter-widgets/base",
            "_model_module_version": "1.2.0",
            "_model_name": "LayoutModel",
            "_view_count": null,
            "_view_module": "@jupyter-widgets/base",
            "_view_module_version": "1.2.0",
            "_view_name": "LayoutView",
            "align_content": null,
            "align_items": null,
            "align_self": null,
            "border": null,
            "bottom": null,
            "display": null,
            "flex": null,
            "flex_flow": null,
            "grid_area": null,
            "grid_auto_columns": null,
            "grid_auto_flow": null,
            "grid_auto_rows": null,
            "grid_column": null,
            "grid_gap": null,
            "grid_row": null,
            "grid_template_areas": null,
            "grid_template_columns": null,
            "grid_template_rows": null,
            "height": null,
            "justify_content": null,
            "justify_items": null,
            "left": null,
            "margin": null,
            "max_height": null,
            "max_width": null,
            "min_height": null,
            "min_width": null,
            "object_fit": null,
            "object_position": null,
            "order": null,
            "overflow": null,
            "overflow_x": null,
            "overflow_y": null,
            "padding": null,
            "right": null,
            "top": null,
            "visibility": null,
            "width": null
          }
        },
        "5ff2c15c199947159d8e722cd5f74516": {
          "model_module": "@jupyter-widgets/controls",
          "model_module_version": "1.5.0",
          "model_name": "FloatProgressModel",
          "state": {
            "_dom_classes": [],
            "_model_module": "@jupyter-widgets/controls",
            "_model_module_version": "1.5.0",
            "_model_name": "FloatProgressModel",
            "_view_count": null,
            "_view_module": "@jupyter-widgets/controls",
            "_view_module_version": "1.5.0",
            "_view_name": "ProgressView",
            "bar_style": "success",
            "description": "",
            "description_tooltip": null,
            "layout": "IPY_MODEL_ba4aa123419d4c759efbeda0711ace36",
            "max": 4,
            "min": 0,
            "orientation": "horizontal",
            "style": "IPY_MODEL_81ddeb6141c5496cadcac7947376778e",
            "value": 4
          }
        },
        "72e294256c4f404d947f9f2637cb2f08": {
          "model_module": "@jupyter-widgets/controls",
          "model_module_version": "1.5.0",
          "model_name": "HTMLModel",
          "state": {
            "_dom_classes": [],
            "_model_module": "@jupyter-widgets/controls",
            "_model_module_version": "1.5.0",
            "_model_name": "HTMLModel",
            "_view_count": null,
            "_view_module": "@jupyter-widgets/controls",
            "_view_module_version": "1.5.0",
            "_view_name": "HTMLView",
            "description": "",
            "description_tooltip": null,
            "layout": "IPY_MODEL_8488838ced674dda958a8935b8b020d8",
            "placeholder": "​",
            "style": "IPY_MODEL_b6cd0b7345224f5b9c02de87402f6c65",
            "value": "Loading checkpoint shards: 100%"
          }
        },
        "76e02a08f5a44f409ce448b4299964bf": {
          "model_module": "@jupyter-widgets/base",
          "model_module_version": "1.2.0",
          "model_name": "LayoutModel",
          "state": {
            "_model_module": "@jupyter-widgets/base",
            "_model_module_version": "1.2.0",
            "_model_name": "LayoutModel",
            "_view_count": null,
            "_view_module": "@jupyter-widgets/base",
            "_view_module_version": "1.2.0",
            "_view_name": "LayoutView",
            "align_content": null,
            "align_items": null,
            "align_self": null,
            "border": null,
            "bottom": null,
            "display": null,
            "flex": null,
            "flex_flow": null,
            "grid_area": null,
            "grid_auto_columns": null,
            "grid_auto_flow": null,
            "grid_auto_rows": null,
            "grid_column": null,
            "grid_gap": null,
            "grid_row": null,
            "grid_template_areas": null,
            "grid_template_columns": null,
            "grid_template_rows": null,
            "height": null,
            "justify_content": null,
            "justify_items": null,
            "left": null,
            "margin": null,
            "max_height": null,
            "max_width": null,
            "min_height": null,
            "min_width": null,
            "object_fit": null,
            "object_position": null,
            "order": null,
            "overflow": null,
            "overflow_x": null,
            "overflow_y": null,
            "padding": null,
            "right": null,
            "top": null,
            "visibility": null,
            "width": null
          }
        },
        "81ddeb6141c5496cadcac7947376778e": {
          "model_module": "@jupyter-widgets/controls",
          "model_module_version": "1.5.0",
          "model_name": "ProgressStyleModel",
          "state": {
            "_model_module": "@jupyter-widgets/controls",
            "_model_module_version": "1.5.0",
            "_model_name": "ProgressStyleModel",
            "_view_count": null,
            "_view_module": "@jupyter-widgets/base",
            "_view_module_version": "1.2.0",
            "_view_name": "StyleView",
            "bar_color": null,
            "description_width": ""
          }
        },
        "8488838ced674dda958a8935b8b020d8": {
          "model_module": "@jupyter-widgets/base",
          "model_module_version": "1.2.0",
          "model_name": "LayoutModel",
          "state": {
            "_model_module": "@jupyter-widgets/base",
            "_model_module_version": "1.2.0",
            "_model_name": "LayoutModel",
            "_view_count": null,
            "_view_module": "@jupyter-widgets/base",
            "_view_module_version": "1.2.0",
            "_view_name": "LayoutView",
            "align_content": null,
            "align_items": null,
            "align_self": null,
            "border": null,
            "bottom": null,
            "display": null,
            "flex": null,
            "flex_flow": null,
            "grid_area": null,
            "grid_auto_columns": null,
            "grid_auto_flow": null,
            "grid_auto_rows": null,
            "grid_column": null,
            "grid_gap": null,
            "grid_row": null,
            "grid_template_areas": null,
            "grid_template_columns": null,
            "grid_template_rows": null,
            "height": null,
            "justify_content": null,
            "justify_items": null,
            "left": null,
            "margin": null,
            "max_height": null,
            "max_width": null,
            "min_height": null,
            "min_width": null,
            "object_fit": null,
            "object_position": null,
            "order": null,
            "overflow": null,
            "overflow_x": null,
            "overflow_y": null,
            "padding": null,
            "right": null,
            "top": null,
            "visibility": null,
            "width": null
          }
        },
        "86720b43c59742e6a0cebb2003edcc56": {
          "model_module": "@jupyter-widgets/controls",
          "model_module_version": "1.5.0",
          "model_name": "HBoxModel",
          "state": {
            "_dom_classes": [],
            "_model_module": "@jupyter-widgets/controls",
            "_model_module_version": "1.5.0",
            "_model_name": "HBoxModel",
            "_view_count": null,
            "_view_module": "@jupyter-widgets/controls",
            "_view_module_version": "1.5.0",
            "_view_name": "HBoxView",
            "box_style": "",
            "children": [
              "IPY_MODEL_72e294256c4f404d947f9f2637cb2f08",
              "IPY_MODEL_5ff2c15c199947159d8e722cd5f74516",
              "IPY_MODEL_2ba3d5ca986d4fd195b300de2c6f6be6"
            ],
            "layout": "IPY_MODEL_76e02a08f5a44f409ce448b4299964bf"
          }
        },
        "87a434c1e86c4a888c07035dc8af1f63": {
          "model_module": "@jupyter-widgets/base",
          "model_module_version": "1.2.0",
          "model_name": "LayoutModel",
          "state": {
            "_model_module": "@jupyter-widgets/base",
            "_model_module_version": "1.2.0",
            "_model_name": "LayoutModel",
            "_view_count": null,
            "_view_module": "@jupyter-widgets/base",
            "_view_module_version": "1.2.0",
            "_view_name": "LayoutView",
            "align_content": null,
            "align_items": null,
            "align_self": null,
            "border": null,
            "bottom": null,
            "display": null,
            "flex": null,
            "flex_flow": null,
            "grid_area": null,
            "grid_auto_columns": null,
            "grid_auto_flow": null,
            "grid_auto_rows": null,
            "grid_column": null,
            "grid_gap": null,
            "grid_row": null,
            "grid_template_areas": null,
            "grid_template_columns": null,
            "grid_template_rows": null,
            "height": null,
            "justify_content": null,
            "justify_items": null,
            "left": null,
            "margin": null,
            "max_height": null,
            "max_width": null,
            "min_height": null,
            "min_width": null,
            "object_fit": null,
            "object_position": null,
            "order": null,
            "overflow": null,
            "overflow_x": null,
            "overflow_y": null,
            "padding": null,
            "right": null,
            "top": null,
            "visibility": null,
            "width": null
          }
        },
        "9064862c4d6846b1b1901d278bf602bf": {
          "model_module": "@jupyter-widgets/base",
          "model_module_version": "1.2.0",
          "model_name": "LayoutModel",
          "state": {
            "_model_module": "@jupyter-widgets/base",
            "_model_module_version": "1.2.0",
            "_model_name": "LayoutModel",
            "_view_count": null,
            "_view_module": "@jupyter-widgets/base",
            "_view_module_version": "1.2.0",
            "_view_name": "LayoutView",
            "align_content": null,
            "align_items": null,
            "align_self": null,
            "border": null,
            "bottom": null,
            "display": null,
            "flex": null,
            "flex_flow": null,
            "grid_area": null,
            "grid_auto_columns": null,
            "grid_auto_flow": null,
            "grid_auto_rows": null,
            "grid_column": null,
            "grid_gap": null,
            "grid_row": null,
            "grid_template_areas": null,
            "grid_template_columns": null,
            "grid_template_rows": null,
            "height": null,
            "justify_content": null,
            "justify_items": null,
            "left": null,
            "margin": null,
            "max_height": null,
            "max_width": null,
            "min_height": null,
            "min_width": null,
            "object_fit": null,
            "object_position": null,
            "order": null,
            "overflow": null,
            "overflow_x": null,
            "overflow_y": null,
            "padding": null,
            "right": null,
            "top": null,
            "visibility": null,
            "width": null
          }
        },
        "98f77fc224fc4298ad9e7fc8ff7c1ce4": {
          "model_module": "@jupyter-widgets/controls",
          "model_module_version": "1.5.0",
          "model_name": "DescriptionStyleModel",
          "state": {
            "_model_module": "@jupyter-widgets/controls",
            "_model_module_version": "1.5.0",
            "_model_name": "DescriptionStyleModel",
            "_view_count": null,
            "_view_module": "@jupyter-widgets/base",
            "_view_module_version": "1.2.0",
            "_view_name": "StyleView",
            "description_width": ""
          }
        },
        "99cca60e6b884b2f9339fa880aba66f0": {
          "model_module": "@jupyter-widgets/controls",
          "model_module_version": "1.5.0",
          "model_name": "HBoxModel",
          "state": {
            "_dom_classes": [],
            "_model_module": "@jupyter-widgets/controls",
            "_model_module_version": "1.5.0",
            "_model_name": "HBoxModel",
            "_view_count": null,
            "_view_module": "@jupyter-widgets/controls",
            "_view_module_version": "1.5.0",
            "_view_name": "HBoxView",
            "box_style": "",
            "children": [
              "IPY_MODEL_f8c1ab7d83b5463f9b60cefbdb91cb45",
              "IPY_MODEL_ebcceb3adf3e40f39b0eb6d297d8fc9b",
              "IPY_MODEL_a0781aacfdd74047a61f2fe06d201210"
            ],
            "layout": "IPY_MODEL_9064862c4d6846b1b1901d278bf602bf"
          }
        },
        "a0781aacfdd74047a61f2fe06d201210": {
          "model_module": "@jupyter-widgets/controls",
          "model_module_version": "1.5.0",
          "model_name": "HTMLModel",
          "state": {
            "_dom_classes": [],
            "_model_module": "@jupyter-widgets/controls",
            "_model_module_version": "1.5.0",
            "_model_name": "HTMLModel",
            "_view_count": null,
            "_view_module": "@jupyter-widgets/controls",
            "_view_module_version": "1.5.0",
            "_view_name": "HTMLView",
            "description": "",
            "description_tooltip": null,
            "layout": "IPY_MODEL_3ad9d953913c421483030a4643d67b29",
            "placeholder": "​",
            "style": "IPY_MODEL_a1ea663b494e4accb5c43c82afabe7f1",
            "value": " 4/4 [00:05&lt;00:00,  1.09s/it]"
          }
        },
        "a1ea663b494e4accb5c43c82afabe7f1": {
          "model_module": "@jupyter-widgets/controls",
          "model_module_version": "1.5.0",
          "model_name": "DescriptionStyleModel",
          "state": {
            "_model_module": "@jupyter-widgets/controls",
            "_model_module_version": "1.5.0",
            "_model_name": "DescriptionStyleModel",
            "_view_count": null,
            "_view_module": "@jupyter-widgets/base",
            "_view_module_version": "1.2.0",
            "_view_name": "StyleView",
            "description_width": ""
          }
        },
        "b6cd0b7345224f5b9c02de87402f6c65": {
          "model_module": "@jupyter-widgets/controls",
          "model_module_version": "1.5.0",
          "model_name": "DescriptionStyleModel",
          "state": {
            "_model_module": "@jupyter-widgets/controls",
            "_model_module_version": "1.5.0",
            "_model_name": "DescriptionStyleModel",
            "_view_count": null,
            "_view_module": "@jupyter-widgets/base",
            "_view_module_version": "1.2.0",
            "_view_name": "StyleView",
            "description_width": ""
          }
        },
        "ba4aa123419d4c759efbeda0711ace36": {
          "model_module": "@jupyter-widgets/base",
          "model_module_version": "1.2.0",
          "model_name": "LayoutModel",
          "state": {
            "_model_module": "@jupyter-widgets/base",
            "_model_module_version": "1.2.0",
            "_model_name": "LayoutModel",
            "_view_count": null,
            "_view_module": "@jupyter-widgets/base",
            "_view_module_version": "1.2.0",
            "_view_name": "LayoutView",
            "align_content": null,
            "align_items": null,
            "align_self": null,
            "border": null,
            "bottom": null,
            "display": null,
            "flex": null,
            "flex_flow": null,
            "grid_area": null,
            "grid_auto_columns": null,
            "grid_auto_flow": null,
            "grid_auto_rows": null,
            "grid_column": null,
            "grid_gap": null,
            "grid_row": null,
            "grid_template_areas": null,
            "grid_template_columns": null,
            "grid_template_rows": null,
            "height": null,
            "justify_content": null,
            "justify_items": null,
            "left": null,
            "margin": null,
            "max_height": null,
            "max_width": null,
            "min_height": null,
            "min_width": null,
            "object_fit": null,
            "object_position": null,
            "order": null,
            "overflow": null,
            "overflow_x": null,
            "overflow_y": null,
            "padding": null,
            "right": null,
            "top": null,
            "visibility": null,
            "width": null
          }
        },
        "bebc91f7b8c04a6aad9eaac5cf969d2d": {
          "model_module": "@jupyter-widgets/controls",
          "model_module_version": "1.5.0",
          "model_name": "DescriptionStyleModel",
          "state": {
            "_model_module": "@jupyter-widgets/controls",
            "_model_module_version": "1.5.0",
            "_model_name": "DescriptionStyleModel",
            "_view_count": null,
            "_view_module": "@jupyter-widgets/base",
            "_view_module_version": "1.2.0",
            "_view_name": "StyleView",
            "description_width": ""
          }
        },
        "c77206665e164921b8371036089bea85": {
          "model_module": "@jupyter-widgets/base",
          "model_module_version": "1.2.0",
          "model_name": "LayoutModel",
          "state": {
            "_model_module": "@jupyter-widgets/base",
            "_model_module_version": "1.2.0",
            "_model_name": "LayoutModel",
            "_view_count": null,
            "_view_module": "@jupyter-widgets/base",
            "_view_module_version": "1.2.0",
            "_view_name": "LayoutView",
            "align_content": null,
            "align_items": null,
            "align_self": null,
            "border": null,
            "bottom": null,
            "display": null,
            "flex": null,
            "flex_flow": null,
            "grid_area": null,
            "grid_auto_columns": null,
            "grid_auto_flow": null,
            "grid_auto_rows": null,
            "grid_column": null,
            "grid_gap": null,
            "grid_row": null,
            "grid_template_areas": null,
            "grid_template_columns": null,
            "grid_template_rows": null,
            "height": null,
            "justify_content": null,
            "justify_items": null,
            "left": null,
            "margin": null,
            "max_height": null,
            "max_width": null,
            "min_height": null,
            "min_width": null,
            "object_fit": null,
            "object_position": null,
            "order": null,
            "overflow": null,
            "overflow_x": null,
            "overflow_y": null,
            "padding": null,
            "right": null,
            "top": null,
            "visibility": null,
            "width": null
          }
        },
        "de47333253ed4f2298d4e853e4a385fd": {
          "model_module": "@jupyter-widgets/controls",
          "model_module_version": "1.5.0",
          "model_name": "ProgressStyleModel",
          "state": {
            "_model_module": "@jupyter-widgets/controls",
            "_model_module_version": "1.5.0",
            "_model_name": "ProgressStyleModel",
            "_view_count": null,
            "_view_module": "@jupyter-widgets/base",
            "_view_module_version": "1.2.0",
            "_view_name": "StyleView",
            "bar_color": null,
            "description_width": ""
          }
        },
        "e3b19b49f4a94b2b8e23ba11e25b84d2": {
          "model_module": "@jupyter-widgets/base",
          "model_module_version": "1.2.0",
          "model_name": "LayoutModel",
          "state": {
            "_model_module": "@jupyter-widgets/base",
            "_model_module_version": "1.2.0",
            "_model_name": "LayoutModel",
            "_view_count": null,
            "_view_module": "@jupyter-widgets/base",
            "_view_module_version": "1.2.0",
            "_view_name": "LayoutView",
            "align_content": null,
            "align_items": null,
            "align_self": null,
            "border": null,
            "bottom": null,
            "display": null,
            "flex": null,
            "flex_flow": null,
            "grid_area": null,
            "grid_auto_columns": null,
            "grid_auto_flow": null,
            "grid_auto_rows": null,
            "grid_column": null,
            "grid_gap": null,
            "grid_row": null,
            "grid_template_areas": null,
            "grid_template_columns": null,
            "grid_template_rows": null,
            "height": null,
            "justify_content": null,
            "justify_items": null,
            "left": null,
            "margin": null,
            "max_height": null,
            "max_width": null,
            "min_height": null,
            "min_width": null,
            "object_fit": null,
            "object_position": null,
            "order": null,
            "overflow": null,
            "overflow_x": null,
            "overflow_y": null,
            "padding": null,
            "right": null,
            "top": null,
            "visibility": null,
            "width": null
          }
        },
        "ebcceb3adf3e40f39b0eb6d297d8fc9b": {
          "model_module": "@jupyter-widgets/controls",
          "model_module_version": "1.5.0",
          "model_name": "FloatProgressModel",
          "state": {
            "_dom_classes": [],
            "_model_module": "@jupyter-widgets/controls",
            "_model_module_version": "1.5.0",
            "_model_name": "FloatProgressModel",
            "_view_count": null,
            "_view_module": "@jupyter-widgets/controls",
            "_view_module_version": "1.5.0",
            "_view_name": "ProgressView",
            "bar_style": "success",
            "description": "",
            "description_tooltip": null,
            "layout": "IPY_MODEL_e3b19b49f4a94b2b8e23ba11e25b84d2",
            "max": 4,
            "min": 0,
            "orientation": "horizontal",
            "style": "IPY_MODEL_de47333253ed4f2298d4e853e4a385fd",
            "value": 4
          }
        },
        "f8c1ab7d83b5463f9b60cefbdb91cb45": {
          "model_module": "@jupyter-widgets/controls",
          "model_module_version": "1.5.0",
          "model_name": "HTMLModel",
          "state": {
            "_dom_classes": [],
            "_model_module": "@jupyter-widgets/controls",
            "_model_module_version": "1.5.0",
            "_model_name": "HTMLModel",
            "_view_count": null,
            "_view_module": "@jupyter-widgets/controls",
            "_view_module_version": "1.5.0",
            "_view_name": "HTMLView",
            "description": "",
            "description_tooltip": null,
            "layout": "IPY_MODEL_c77206665e164921b8371036089bea85",
            "placeholder": "​",
            "style": "IPY_MODEL_bebc91f7b8c04a6aad9eaac5cf969d2d",
            "value": "Loading checkpoint shards: 100%"
          }
        }
      }
    }
  },
  "nbformat": 4,
  "nbformat_minor": 0
}
